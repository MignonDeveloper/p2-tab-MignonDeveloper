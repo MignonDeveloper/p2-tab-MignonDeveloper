{
 "metadata": {
  "language_info": {
   "codemirror_mode": {
    "name": "ipython",
    "version": 3
   },
   "file_extension": ".py",
   "mimetype": "text/x-python",
   "name": "python",
   "nbconvert_exporter": "python",
   "pygments_lexer": "ipython3",
   "version": "3.7.7"
  },
  "orig_nbformat": 2,
  "kernelspec": {
   "name": "python377jvsc74a57bd098b0a9b7b4eaaa670588a142fd0a9b87eaafe866f1db4228be72b4211d12040f",
   "display_name": "Python 3.7.7 64-bit ('base': conda)"
  }
 },
 "nbformat": 4,
 "nbformat_minor": 2,
 "cells": [
  {
   "cell_type": "code",
   "execution_count": 1,
   "metadata": {},
   "outputs": [],
   "source": [
    "import pandas as pd\n",
    "import numpy as np\n",
    "\n",
    "# 기본 프로젝트 디렉터리\n",
    "PROJECT_PATH = \"/opt/ml/online_retail_prediction\"\n",
    "\n",
    "# 데이터가 저장된 디렉터리\n",
    "BASE_DATA_PATH = \"/opt/ml/online_retail_prediction/input\"\n",
    "\n",
    "class CFG:\n",
    "    objective = \"binary\"\n",
    "    boosting_type = \"gbdt\"\n",
    "    metric = \"auc\"\n",
    "    feature_fraction = 0.8\n",
    "    bagging_fraction = 0.8\n",
    "    bagging_freq = 1\n",
    "    n_estimators = 10000\n",
    "    early_stopping_rounds = 100\n",
    "    verbose = -1\n",
    "    n_jobs = -1\n",
    "\n",
    "    predict_year_month = '2011-12'\n",
    "    seed = 42 # random seed\n",
    "    total_thres = 300 # total threshold\n",
    "    folds = 10 # number of k-fold\n",
    "    model = 'LightGBM' # model\n",
    "    description = 'Modeling' # description\n",
    "\n",
    "    train_data_path = os.path.join(BASE_DATA_PATH, 'train.csv') # train csv 파일\n",
    "    sample_submission_path = os.path.join(BASE_DATA_PATH, 'sample_submission.csv') # train csv 파일\n",
    "    config_path = './config/config.json'\n",
    "    docs_path = os.path.join(PROJECT_PATH, 'docs') # result, visualization 저장 경로\n",
    "    model_path = os.path.join(PROJECT_PATH, 'models') # trained model 저장 경로"
   ]
  },
  {
   "cell_type": "code",
   "execution_count": 2,
   "metadata": {},
   "outputs": [],
   "source": [
    "# Catboost & LightGBM & XGBoost\n",
    "CatBoost = pd.read_csv(os.path.join(CFG.docs_path,'result','output_8627_Catboost.csv'))\n",
    "LightGBM = pd.read_csv(os.path.join(CFG.docs_path,'result','output_8591_LightGBM.csv'))\n",
    "XGBoost = pd.read_csv(os.path.join(CFG.docs_path,'result','output_XGBoost.csv'))\n",
    "\n",
    "final_result = pd.read_csv(CFG.sample_submission_path)\n",
    "final_result['probability'] = (CatBoost['probability'] / 3) + (LightGBM['probability'] / 3) + (XGBoost['probability'] / 3)\n",
    "final_result.to_csv(os.path.join(CFG.docs_path ,'result', 'ensemble_output.csv'), index=False)"
   ]
  },
  {
   "cell_type": "code",
   "execution_count": 4,
   "metadata": {},
   "outputs": [],
   "source": [
    "# Catboost & LightGBM\n",
    "CatBoost = pd.read_csv(os.path.join(CFG.docs_path,'result','output_8627_Catboost.csv'))\n",
    "LightGBM = pd.read_csv(os.path.join(CFG.docs_path,'result','output_8591_LightGBM.csv'))\n",
    "\n",
    "final_result = pd.read_csv(CFG.sample_submission_path)\n",
    "final_result['probability'] = (CatBoost['probability'] / 2) + (LightGBM['probability'] / 2)\n",
    "final_result.to_csv(os.path.join(CFG.docs_path ,'result', 'ensemble_output_2.csv'), index=False)"
   ]
  },
  {
   "cell_type": "code",
   "execution_count": 5,
   "metadata": {},
   "outputs": [],
   "source": [
    "# Catboost & LightGBM & XGBoost\n",
    "CatBoost = pd.read_csv(os.path.join(CFG.docs_path,'result','output_8627_Catboost.csv'))\n",
    "LightGBM = pd.read_csv(os.path.join(CFG.docs_path,'result','output_8591_LightGBM.csv'))\n",
    "XGBoost = pd.read_csv(os.path.join(CFG.docs_path,'result','output_XGBoost.csv'))\n",
    "TabNet = pd.read_csv(os.path.join(CFG.docs_path,'result','output_TabNet.csv'))\n",
    "\n",
    "final_result = pd.read_csv(CFG.sample_submission_path)\n",
    "final_result['probability'] = (CatBoost['probability'] / 4) + (LightGBM['probability'] / 4) + (XGBoost['probability'] / 4) + (TabNet['probability'] / 4)\n",
    "final_result.to_csv(os.path.join(CFG.docs_path ,'result', 'ensemble_output_4.csv'), index=False)"
   ]
  },
  {
   "cell_type": "code",
   "execution_count": null,
   "metadata": {},
   "outputs": [],
   "source": []
  }
 ]
}